{
 "cells": [
  {
   "cell_type": "code",
   "execution_count": 6,
   "metadata": {},
   "outputs": [],
   "source": [
    "from viewdata import *\n",
    "import matplotlib.pyplot as plt\n",
    "\n",
    "%matplotlib inline"
   ]
  },
  {
   "cell_type": "code",
   "execution_count": 7,
   "metadata": {},
   "outputs": [
    {
     "name": "stdout",
     "output_type": "stream",
     "text": [
      "ExpSinePlusLine                                                  None\n",
      "Temperature                              (a[0]^2+2*kb/M*a[1]*x^2)^0.5\n",
      "StepWithSlope                    p[2] if x < p[0] ; p[3] if x > p[1] \n",
      "Sqrt                                         p[0]*sqrt(x-p[1]) + p[2]\n",
      "GaussianNoOffset               a[0] * exp( - ( (x-a[1]) / a[2] )**2 )\n",
      "RabiResonance           a[0]*sinc^2( 2*pi * (x-a[1]) * a[2]/2 ) +a[3]\n",
      "Linear                                                  a[0]*x + a[1]\n",
      "Parabola                                      p[0]*(x-p[1])**2 + p[2]\n",
      "Beam1070m2          a[0] * sqrt ( 1 + ( (x-a[1]) / ( pi * a[0]^2 /...\n",
      "Beam1064            a[0] * sqrt ( 1 + ( (x-a[1]) / ( pi * a[0]^2 /...\n",
      "DLinear             a[0]*x + a[3] if x<a[2] else a[0]*a[2]+a[1]*(x...\n",
      "DoubleExp           p[0]=ampl, p[2]=offs, p[1]=tau1, p[3]=kink, p[...\n",
      "Sine                             a[0] * sin( a[1]*x*2*pi-a[2]) + a[3]\n",
      "Beam671             a[0] * sqrt ( 1 + ( (x-a[1]) / ( pi * a[0]^2 /...\n",
      "PowerLaw                                   p[0]*(x-p[1])**p[3] + p[2]\n",
      "Exp                                    a[0] * exp( - x / a[1]  )+a[2]\n",
      "DoubleLorentzian     a[0]*( 1 / ( pi * a[2] * ( 1 + (( x - a[1] ) ...\n",
      "ExpSine             a[0]*sin( a[1]*x*2*pi-a[2] )*exp(-x*a[3]) + a[...\n",
      "Lorentzian           a[0]*( 1 / ( pi * a[2] * ( 1 + (( x - a[1] ) ...\n",
      "Slope                                                          a[0]*x\n",
      "Gaussian                  a[0] * exp( - ( (x-a[1]) / a[2] )**2 )+a[3]\n",
      "Beam1070            a[0] * sqrt ( 1 + ( (x-a[1]) / ( pi * a[0]^2 /...\n",
      "DebyeWaller                     a[0] * exp( -1/2 * a[1]^2 / sqrt(x) )\n",
      "dtype: object\n"
     ]
    }
   ],
   "source": [
    "print help_table"
   ]
  },
  {
   "cell_type": "code",
   "execution_count": 8,
   "metadata": {},
   "outputs": [
    {
     "data": {
      "text/plain": [
       "'a[0] * sqrt ( 1 + ( (x-a[1]) / ( pi * a[0]^2 / lambda ) )**2 )'"
      ]
     },
     "execution_count": 8,
     "output_type": "execute_result",
     "metadata": {}
    }
   ],
   "source": [
    "help_table[\"Beam1070\"]"
   ]
  },
  {
   "cell_type": "code",
   "execution_count": 10,
   "metadata": {},
   "outputs": [],
   "source": [
    "#p = PlotData()\n",
    "\n",
    "#p.replot()"
   ]
  },
  {
   "cell_type": "code",
   "execution_count": 11,
   "metadata": {},
   "outputs": [
    {
     "name": "stdout",
     "output_type": "stream",
     "text": [
      "para\t\t\terror\n",
      "-1.67952e+01\t4.87816e+00\n",
      "4.17841e+00\t2.18187e-01\n",
      "3.69873e-01\t2.46007e-01\n",
      "4.23686e+00\t1.67643e+00\n",
      "6.69720e+01\t4.50099e-01\n",
      "0.00000e+00\t0.00000e+00\n",
      "\n",
      "ExpSine\n",
      "(-1.67952e+01 +/- 4.87816e+00)*sin( (4.17841e+00 +/- 2.18187e-01)*x*2*pi-(3.69873e-01 +/- 2.46007e-01) )*exp(-x*(4.23686e+00 +/- 1.67643e+00)) + (6.69720e+01 +/- 4.50099e-01) + (0.00000e+00 +/- 0.00000e+00)*x\n"
     ]
    },
    {
     "data": {
      "image/png": "[encoded data removed]"
     },
     "output_type": "display_data",
     "metadata": {}
    }
   ],
   "source": [
    "set_default_curve_date(2016,1,20)\n",
    "p = PlotData(empty=True)\n",
    "s = Subplot()\n",
    "c = Curve()\n",
    "c.set_value(\"shots\", \"4550:4582\")\n",
    "c.set_value(\"X\", \"ODT:odtoscdt\")\n",
    "c.set_value(\"Y\", \"CPP:ax0w\")\n",
    "c.set_value(\"fitB\", True)\n",
    "c.set_value(\"func\",\"ExpSine\")\n",
    "c.set_value(\"plotfuncB\", True)\n",
    "c.set_value(\"para_list\",[-20.0,4.0,0.0,0.5,65.0,0])\n",
    "s.add_curve(c)\n",
    "p.add_subplot(s)\n",
    "p.replot()\n",
    "print p.curve_dic(0,0)['fit_result']\n",
    "print p.curve_dic(0,0)['func']\n",
    "print p.fitted_expr(0,0)"
   ]
  },
  {
   "cell_type": "code",
   "execution_count": 12,
   "metadata": {},
   "outputs": [
    {
     "data": {
      "text/plain": [
       "{'curvelist': [<viewdata.viewdata_core.Curve instance at 0x50eafc8>],\n",
       " 'location': [1, 1],\n",
       " 'name': 'new subplot',\n",
       " 'plotsubB': True,\n",
       " 'setup_grid': [1, 1],\n",
       " 'subplot_num': [1, 1]}"
      ]
     },
     "execution_count": 12,
     "output_type": "execute_result",
     "metadata": {}
    }
   ],
   "source": [
    "s.dic"
   ]
  },
  {
   "cell_type": "code",
   "execution_count": 13,
   "metadata": {},
   "outputs": [
    {
     "data": {
      "text/plain": [
       "{'Legend': ['string', ''],\n",
       " 'X': ['string', 'SEQ:shot'],\n",
       " 'Xl': ['string', ''],\n",
       " 'Xmax': ['float', None],\n",
       " 'Xmin': ['float', None],\n",
       " 'Y': ['string', 'MOT:goal'],\n",
       " 'Yl': ['string', ''],\n",
       " 'Ymax': ['float', None],\n",
       " 'Ymin': ['float', None],\n",
       " 'color': ['string', 'auto'],\n",
       " 'curve_num': ['int_list', [1, 1]],\n",
       " 'data_str': ['string', ''],\n",
       " 'date': ['string', '2016/01/20'],\n",
       " 'ec': ['string', 'black'],\n",
       " 'fitB': ['bool', False],\n",
       " 'fit_result': ['string', ''],\n",
       " 'fmt': ['string', 'o'],\n",
       " 'func': ['string', 'Parabola'],\n",
       " 'gridB': ['bool', False],\n",
       " 'location': ['int_list', [1, 1]],\n",
       " 'logxB': ['bool', False],\n",
       " 'logyB': ['bool', False],\n",
       " 'matchB': ['bool', True],\n",
       " 'mew': ['float', None],\n",
       " 'ms': ['float', None],\n",
       " 'name': ['string', 'new curve'],\n",
       " 'para_list': ['float_list', [0, 0, 0, 0, 0, 0]],\n",
       " 'plotcurveB': ['bool', True],\n",
       " 'plotfuncB': ['bool', False],\n",
       " 'shots': ['string', '8163:8196'],\n",
       " 'statsB': ['bool', False],\n",
       " 'xticksB': ['bool', True],\n",
       " 'yticksB': ['bool', True]}"
      ]
     },
     "execution_count": 13,
     "output_type": "execute_result",
     "metadata": {}
    }
   ],
   "source": [
    "Curve_setup_dict_type_default"
   ]
  },
  {
   "cell_type": "code",
   "execution_count": 14,
   "metadata": {},
   "outputs": [
    {
     "data": {
      "text/plain": [
       "{'curvelist': ['curve_list', []],\n",
       " 'location': ['int_list', [1, 1]],\n",
       " 'name': ['string', 'new subplot'],\n",
       " 'plotsubB': ['bool', True],\n",
       " 'setup_grid': ['int_list', [1, 1]],\n",
       " 'subplot_num': ['int_list', [1, 1]]}"
      ]
     },
     "execution_count": 14,
     "output_type": "execute_result",
     "metadata": {}
    }
   ],
   "source": [
    "Subplot_setup_dict_type_default"
   ]
  },
  {
   "cell_type": "code",
   "execution_count": null,
   "metadata": {},
   "outputs": [],
   "source": [
    ""
   ]
  }
 ],
 "metadata": {
  "kernelspec": {
   "display_name": "Python 2",
   "language": "python",
   "name": "python2"
  },
  "language_info": {
   "codemirror_mode": {
    "name": "ipython",
    "version": 2.0
   },
   "file_extension": ".py",
   "mimetype": "text/x-python",
   "name": "python",
   "nbconvert_exporter": "python",
   "pygments_lexer": "ipython2",
   "version": "2.7.3"
  }
 },
 "nbformat": 4,
 "nbformat_minor": 0
}